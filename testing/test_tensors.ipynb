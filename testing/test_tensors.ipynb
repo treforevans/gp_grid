{
 "cells": [
  {
   "cell_type": "code",
   "execution_count": 1,
   "metadata": {},
   "outputs": [],
   "source": [
    "import sys\n",
    "sys.path.append('../..') # just in case gp_grid isn't in the path\n",
    "import numpy as np\n",
    "from numpy.testing import assert_array_almost_equal, assert_array_equal\n",
    "from time import time\n",
    "import gp_grid.tensors\n",
    "from gp_grid.tensors import *"
   ]
  },
  {
   "cell_type": "markdown",
   "metadata": {},
   "source": [
    "# `KronMatrix` Testing"
   ]
  },
  {
   "cell_type": "markdown",
   "metadata": {},
   "source": [
    "test some basic kronecker product operations"
   ]
  },
  {
   "cell_type": "code",
   "execution_count": 2,
   "metadata": {
    "scrolled": false
   },
   "outputs": [
    {
     "name": "stdout",
     "output_type": "stream",
     "text": [
      "\n",
      "********************************************************************************\n",
      "sym=True\n",
      "\n",
      "expansion\n",
      "\tRelative error is 0\n",
      "\n",
      "transpose\n",
      "\tRelative error is 0\n",
      "\n",
      "vector product\n",
      "\tRelative error is 1.45337e-16\n",
      "\ttime for mvprod 7.39e-05 seconds\n",
      "\n",
      "linear system solve\n",
      "\tRelative error is 3.3406e-11\n",
      "\n",
      "cholesky decomposition\n",
      "\tRelative error is 4.36564e-12\n",
      "\n",
      "schur decomposition\n",
      "\tRelative error is 1.23528e-11\n",
      "\n",
      "svd\n",
      "\n",
      "********************************************************************************\n",
      "sym=False\n",
      "\n",
      "expansion\n",
      "\tRelative error is 0\n",
      "\n",
      "transpose\n",
      "\tRelative error is 0\n",
      "\n",
      "vector product\n",
      "\tRelative error is 1.45337e-16\n",
      "\ttime for mvprod 6.39e-05 seconds\n",
      "\n",
      "linear system solve\n",
      "\tRelative error is 3.3406e-11\n",
      "\n",
      "cholesky decomposition\n",
      "\tRelative error is 4.36564e-12\n",
      "\n",
      "schur decomposition\n",
      "\tRelative error is 1.23528e-11\n",
      "\n",
      "svd\n",
      "********************************************************************************\n",
      "tests passed!\n"
     ]
    }
   ],
   "source": [
    "for sym in [True, False]:\n",
    "    print '\\n' + '*' * 80\n",
    "    print 'sym=%s\\n' % (sym)\n",
    "    np.random.seed(0)\n",
    "    d = 3\n",
    "    n = 5\n",
    "    N = n**d\n",
    "    sym = True\n",
    "    A = [np.array(np.random.rand(n,n),order='F') for i in range(d)]\n",
    "    if sym:\n",
    "        A = [np.array(Ai.dot(Ai.T) + 1e-6*np.identity(n),order='F') for Ai in A]\n",
    "    Ab = 1\n",
    "    for i in range(d):\n",
    "        Ab = np.kron(Ab,A[i])\n",
    "    K = gp_grid.tensors.KronMatrix(A, sym=sym)\n",
    "    x = np.matrix(np.random.rand(n**d,1))\n",
    "\n",
    "    # test the expansion\n",
    "    print \"expansion\"\n",
    "    error = np.linalg.norm(K.expand()-Ab)/np.linalg.norm(Ab)\n",
    "    print '\\tRelative error is %g' % error\n",
    "    if error > 1e-10:\n",
    "        raise RuntimeError('error too large.')\n",
    "\n",
    "    # test the transpose\n",
    "    print \"\\ntranspose\"\n",
    "    error =  np.linalg.norm(K.T.expand()-Ab.T)/np.linalg.norm(Ab)\n",
    "    print '\\tRelative error is %g' % error\n",
    "    if error > 1e-10:\n",
    "        raise RuntimeError('error too large.')\n",
    "\n",
    "    # test a matrix vector product\n",
    "    print \"\\nvector product\"\n",
    "    error = np.linalg.norm(K*x-Ab.dot(x))/np.linalg.norm(Ab.dot(x))\n",
    "    print '\\tRelative error is %g' % error\n",
    "    if error > 1e-10:\n",
    "        raise RuntimeError('error too large.')\n",
    "    t = time()\n",
    "    K.kronvec_prod(x);\n",
    "    print \"\\ttime for mvprod %.3g seconds\" % (time()-t)\n",
    "\n",
    "    # test solving a linear system\n",
    "    print \"\\nlinear system solve\"\n",
    "    error = np.linalg.norm(Ab.dot(K.kronvec_div(x))-x)/np.linalg.norm(x)\n",
    "    error = max(error, np.linalg.norm(K*(K.kronvec_div(x))-x)/np.linalg.norm(x)) # verify consistency\n",
    "    print '\\tRelative error is %g' % error\n",
    "    if error > 1e-10:\n",
    "        raise RuntimeError('error too large.')\n",
    "\n",
    "    # test chol\n",
    "    print \"\\ncholesky decomposition\"\n",
    "    C = K.chol()\n",
    "    error =  np.linalg.norm((C.T).kronkron_prod(C).expand() - Ab)/np.linalg.norm(Ab) # try and reconstruct K\n",
    "    error = max(error, np.linalg.norm(K*(C.solve_chol(x))-x)/np.linalg.norm(x)) # solve linear system\n",
    "    print '\\tRelative error is %g' % error\n",
    "    if error > 1e-10:\n",
    "        raise RuntimeError('error too large.')\n",
    "\n",
    "    # test schur\n",
    "    print \"\\nschur decomposition\"\n",
    "    Q,T = K.schur()\n",
    "    error = np.linalg.norm(Q.kronkron_prod(T).kronkron_prod(Q.T).expand() - Ab)/np.linalg.norm(Ab) # try and reconstruct K\n",
    "    error = max(error, np.linalg.norm(K*(Q.solve_schur(T,x))-x)/np.linalg.norm(x)) # solve linear system\n",
    "    lam = 1e-3\n",
    "    y = Q.solve_schur(T,x,shift=lam)\n",
    "    error = max(error, np.linalg.norm(K*y+lam*y-x)/np.linalg.norm(x)) # solve a shifted linear system\n",
    "    print '\\tRelative error is %g' % error\n",
    "    if error > 1e-10:\n",
    "        raise RuntimeError('error too large.')\n",
    "\n",
    "    # test svd\n",
    "    print \"\\nsvd\"\n",
    "    Q,eig_vals = K.svd()\n",
    "    # reconstruct K\n",
    "    assert_array_almost_equal(Q.expand().dot(np.diag(eig_vals.expand()).dot(Q.T.expand())), Ab)\n",
    "    # solve shifted linear system\n",
    "    y = Q.solve_schur(eig_vals.expand(),x,shift=lam)\n",
    "    assert_array_almost_equal(K*y+lam*y, x)\n",
    "print \"*\"*80\n",
    "print \"tests passed!\""
   ]
  },
  {
   "cell_type": "markdown",
   "metadata": {},
   "source": [
    "Test the eigenvalue/vector sorting to get the largest and smallest"
   ]
  },
  {
   "cell_type": "code",
   "execution_count": 3,
   "metadata": {},
   "outputs": [
    {
     "name": "stdout",
     "output_type": "stream",
     "text": [
      "done tests.\n"
     ]
    }
   ],
   "source": [
    "np.random.seed(1)\n",
    "d = 10\n",
    "n = 3\n",
    "eigs = gp_grid.tensors.KronMatrix([np.random.rand(n) for i in range(d)])\n",
    "all_eigs = eigs.expand() # compute all the eigenvalues for comparison\n",
    "n_eigs = 5 # this is the number of largest/smallest that I want to find\n",
    "for log_expand in [False,True]:\n",
    "    for mode in ['largest', 'smallest']:\n",
    "        # get the n_eigs largest/smallest\n",
    "        eig_order, extreme_eigs, global_loc = eigs.find_extremum_eigs(n_eigs,mode=mode,log_expand=log_expand,\n",
    "                                                                      sort=True, compute_global_loc=True)\n",
    "        if log_expand: # transform back from log space\n",
    "            extreme_eigs = np.exp(extreme_eigs)\n",
    "\n",
    "        # check if extreme_eigs is being computed correctly\n",
    "        assert_array_almost_equal(extreme_eigs, \n",
    "            [np.prod([eigs.K[i][eig_order[j,i]] for i in range(d)]) for j in range(n_eigs)])\n",
    "\n",
    "        # ensure global_loc was computed correctly\n",
    "        assert_array_almost_equal(extreme_eigs, all_eigs[global_loc], decimal=15)\n",
    "\n",
    "        # then compare with the brute force expansion to ensure the correct values were selected\n",
    "        if mode == 'largest':\n",
    "            extreme_eigs_exact = np.sort(all_eigs)[::-1][:n_eigs]\n",
    "        elif mode == 'smallest':\n",
    "            extreme_eigs_exact = np.sort(all_eigs)[:n_eigs]\n",
    "        assert_array_almost_equal(extreme_eigs[::-1], np.sort(extreme_eigs_exact),decimal=15) \n",
    "print 'done tests.'"
   ]
  },
  {
   "cell_type": "markdown",
   "metadata": {},
   "source": [
    "test the log determinant"
   ]
  },
  {
   "cell_type": "code",
   "execution_count": 4,
   "metadata": {},
   "outputs": [
    {
     "name": "stdout",
     "output_type": "stream",
     "text": [
      "done tests.\n"
     ]
    }
   ],
   "source": [
    "for sym in [True,False]:\n",
    "    np.random.seed(0)\n",
    "    A = [np.random.rand(5,5)+np.eye(5) for i in range(2)]\n",
    "    A = [Ai.dot(Ai.T)+1e-6*np.eye(5) for Ai in A] # make it SPD\n",
    "    A = gp_grid.tensors.KronMatrix(A,sym=sym)\n",
    "    eig_vals = A.eig_vals()\n",
    "    assert_array_almost_equal(eig_vals.log_det(), np.linalg.slogdet(A.expand())[1])\n",
    "print 'done tests.'"
   ]
  },
  {
   "cell_type": "markdown",
   "metadata": {},
   "source": [
    "test flipping/shuffling the matrix-multiplication order.\n",
    "\n",
    "*Note that this isn't so much a test of the `tensors` library as it is for future reference to recall how to do this.*"
   ]
  },
  {
   "cell_type": "code",
   "execution_count": 5,
   "metadata": {},
   "outputs": [
    {
     "name": "stdout",
     "output_type": "stream",
     "text": [
      "Testing shuffle order [1 0 2]\n",
      "Testing shuffle order [2 0 1]\n",
      "done tests.\n"
     ]
    }
   ],
   "source": [
    "np.random.seed(0)\n",
    "shapes = [(2,3), (2,2), (5,2)] # sizes of submatricies\n",
    "d = len(shapes)\n",
    "\n",
    "# first do the exact computation\n",
    "K = gp_grid.tensors.KronMatrix([np.random.rand(*shape) for shape in shapes])\n",
    "x = np.random.rand(K.shape[1], 1)\n",
    "y = K*x\n",
    "\n",
    "# now shuffle K and the vector x and try to recover y\n",
    "for i in range(1,d): # i is the index which should go first\n",
    "    # do the forward shuffle\n",
    "    shuffle = np.concatenate(([i,], np.delete(np.arange(d), i)))\n",
    "    print \"Testing shuffle order %s\" % shuffle\n",
    "    K_s = gp_grid.tensors.KronMatrix([K.K[axis] for axis in shuffle]) # shuffled kronecker product\n",
    "    X = x.reshape(zip(*shapes)[1]) # reshape x to the grid shape\n",
    "    x_s = np.transpose(X, shuffle).reshape((-1,1)) # shuffle and turn back to vector\n",
    "    y_s = K_s * x_s\n",
    "    \n",
    "    # now reverse the shuffle in y\n",
    "    new_shapes = [shapes[j] for j in shuffle] # shuffled shape of grid\n",
    "    reverse = np.squeeze([np.where(shuffle==j)[0] for j in range(d)]) # order of the reverse shuffle\n",
    "    Y_s = y_s.reshape(zip(*new_shapes)[0]) # reshape y_s to the new (shuffled) grid shape\n",
    "    yy = np.transpose(Y_s, reverse).reshape((-1,1)) # reverse shuffle and turn back to vector\n",
    "    assert_array_almost_equal(yy,y)\n",
    "print 'done tests.'"
   ]
  },
  {
   "cell_type": "markdown",
   "metadata": {},
   "source": [
    "# `SelectionMatrix` Testing"
   ]
  },
  {
   "cell_type": "code",
   "execution_count": 9,
   "metadata": {},
   "outputs": [
    {
     "name": "stdout",
     "output_type": "stream",
     "text": [
      "done tests.\n"
     ]
    }
   ],
   "source": [
    "np.random.seed(0)\n",
    "A = np.random.rand(20,20)\n",
    "sel = np.random.choice(A.shape[0], size=30)\n",
    "\n",
    "# check SelectionMatrix\n",
    "S = gp_grid.tensors.SelectionMatrix((sel, A.shape[0]))\n",
    "assert_array_equal(A[sel], S.mul(A)) # check if able to perform simple subset\n",
    "\n",
    "print \"done tests.\""
   ]
  }
 ],
 "metadata": {
  "anaconda-cloud": {},
  "kernelspec": {
   "display_name": "Python [conda root]",
   "language": "python",
   "name": "conda-root-py"
  },
  "language_info": {
   "codemirror_mode": {
    "name": "ipython",
    "version": 2
   },
   "file_extension": ".py",
   "mimetype": "text/x-python",
   "name": "python",
   "nbconvert_exporter": "python",
   "pygments_lexer": "ipython2",
   "version": "2.7.12"
  }
 },
 "nbformat": 4,
 "nbformat_minor": 1
}
