{
 "cells": [
  {
   "cell_type": "markdown",
   "metadata": {},
   "source": [
    "This will run all testing scripts.\n",
    "Note that the runipy package is required which can be installed through a windows/unix terminal with \n",
    "```\n",
    "pip install runipy\n",
    "```"
   ]
  },
  {
   "cell_type": "code",
   "execution_count": 1,
   "metadata": {
    "collapsed": false,
    "scrolled": true
   },
   "outputs": [
    {
     "name": "stderr",
     "output_type": "stream",
     "text": [
      "/home/trefor/anaconda2/lib/python2.7/site-packages/IPython/nbformat.py:13: ShimWarning: The `IPython.nbformat` package has been deprecated. You should import from nbformat instead.\n",
      "  \"You should import from nbformat instead.\", ShimWarning)\n",
      "/home/trefor/anaconda2/lib/python2.7/site-packages/nbformat/current.py:19: UserWarning: nbformat.current is deprecated.\n",
      "\n",
      "- use nbformat for read/write/validate public API\n",
      "- use nbformat.vX directly to composing notebooks of a particular version\n",
      "\n",
      "  \"\"\")\n"
     ]
    }
   ],
   "source": [
    "import glob, os, ntpath\n",
    "from runipy.notebook_runner import NotebookRunner\n",
    "from IPython.nbformat.current import read\n",
    "import numpy as np\n",
    "from traceback import print_exc\n",
    "import time"
   ]
  },
  {
   "cell_type": "code",
   "execution_count": 2,
   "metadata": {
    "collapsed": false
   },
   "outputs": [],
   "source": [
    "def callback_fun(cell_num):\n",
    "    '''\n",
    "    function which shows the progress call back as each cell is evaluated in \n",
    "    each notebook called\n",
    "    '''\n",
    "    print \"\\tevaluating cell %d\" % cell_num\n",
    "    \n",
    "\n",
    "def get_fnames(string):\n",
    "    \"\"\" get all filenames containing string \"\"\"\n",
    "    fnames = glob.glob('./*.ipynb') + glob.glob('./*.py')\n",
    "    fnames = [ntpath.basename(fname) for fname in fnames] # remove the path from the filenames\n",
    "    fnames.remove('run_all_tests.ipynb') # remove the current notebook from the list since don't want to run it\n",
    "    print 'Will run the following scripts:'\n",
    "    to_remove = []\n",
    "    for i,fname in enumerate(fnames):\n",
    "        if string not in fname:\n",
    "            to_remove.append(i) # remove from list\n",
    "        else:\n",
    "            print '\\t%s' % fname\n",
    "    fnames = np.delete(fnames,to_remove)\n",
    "    return fnames\n",
    "\n",
    "\n",
    "def run_scripts(fnames):\n",
    "    \"\"\" will run all scripts listed in fnames and report if failed or not \"\"\"\n",
    "    failed = []\n",
    "    for fname in fnames:\n",
    "        print 'running %s' % fname\n",
    "        ext = os.path.splitext(fname)[1]\n",
    "        try:\n",
    "            if ext == '.ipynb':\n",
    "                notebook = read(open(fname), 'json')\n",
    "                r = NotebookRunner(notebook)\n",
    "                r.run_notebook(progress_callback=callback_fun)\n",
    "            else:\n",
    "                execfile(fname)\n",
    "            print '\\t...done script.'\n",
    "        except:\n",
    "            print '\\tSCRIPT FAILED!'\n",
    "            print_exc()\n",
    "            failed.append(fname)\n",
    "            time.sleep(1) # this is to ensure it prints before moving on\n",
    "\n",
    "    print \"\"\n",
    "    if len(failed) == 0:\n",
    "        print \"SUCCESSFUL!\"\n",
    "    else:\n",
    "        print \"FAILED!\"\n",
    "        print \"Run %s for details.\" % repr(failed)"
   ]
  },
  {
   "cell_type": "markdown",
   "metadata": {},
   "source": [
    "# Run Testing Scripts\n",
    "These **must** pass."
   ]
  },
  {
   "cell_type": "code",
   "execution_count": 3,
   "metadata": {
    "collapsed": false,
    "scrolled": false
   },
   "outputs": [
    {
     "name": "stdout",
     "output_type": "stream",
     "text": [
      "Will run the following scripts:\n",
      "\ttest_linalg.ipynb\n",
      "\ttest_kern.ipynb\n",
      "\ttest_direct_covariance.ipynb\n",
      "\ttest_Regression.ipynb\n",
      "\ttest_tensors.ipynb\n",
      "\ttest_GappyRegression.ipynb\n",
      "running test_linalg.ipynb\n",
      "\tevaluating cell 0\n",
      "\tevaluating cell 1\n",
      "\t...done script.\n",
      "running test_kern.ipynb\n",
      "\tevaluating cell 0\n",
      "\tevaluating cell 1\n",
      "\tevaluating cell 2\n",
      "\t...done script.\n",
      "running test_direct_covariance.ipynb\n",
      "\tevaluating cell 0\n",
      "\tevaluating cell 1\n",
      "\tevaluating cell 2\n",
      "\tevaluating cell 3\n",
      "\t...done script.\n",
      "running test_Regression.ipynb\n",
      "\tevaluating cell 0\n",
      "\tevaluating cell 1\n",
      "\tevaluating cell 2\n",
      "\t...done script.\n",
      "running test_tensors.ipynb\n",
      "\tevaluating cell 0\n",
      "\tevaluating cell 1\n",
      "\tevaluating cell 2\n",
      "\tevaluating cell 3\n",
      "\tevaluating cell 4\n",
      "\tevaluating cell 5\n",
      "\t...done script.\n",
      "running test_GappyRegression.ipynb\n",
      "\tevaluating cell 0\n",
      "\tevaluating cell 1\n",
      "\tevaluating cell 2\n",
      "\tevaluating cell 3\n",
      "\tevaluating cell 4\n",
      "\tevaluating cell 5\n",
      "\tevaluating cell 6\n",
      "\tevaluating cell 7\n",
      "\tevaluating cell 8\n",
      "\tevaluating cell 9\n",
      "\t...done script.\n",
      "\n",
      "SUCCESSFUL!\n"
     ]
    }
   ],
   "source": [
    "run_scripts(get_fnames('test'))"
   ]
  }
 ],
 "metadata": {
  "anaconda-cloud": {},
  "kernelspec": {
   "display_name": "Python 2",
   "language": "python",
   "name": "python2"
  },
  "language_info": {
   "codemirror_mode": {
    "name": "ipython",
    "version": 2
   },
   "file_extension": ".py",
   "mimetype": "text/x-python",
   "name": "python",
   "nbconvert_exporter": "python",
   "pygments_lexer": "ipython2",
   "version": "2.7.12"
  }
 },
 "nbformat": 4,
 "nbformat_minor": 1
}
