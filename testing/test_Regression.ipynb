{
 "cells": [
  {
   "cell_type": "markdown",
   "metadata": {},
   "source": [
    "Testing for `gp_grid` regression models. Will raise error if fails."
   ]
  },
  {
   "cell_type": "code",
   "execution_count": 1,
   "metadata": {
    "collapsed": false
   },
   "outputs": [],
   "source": [
    "%matplotlib inline\n",
    "import matplotlib.pyplot as plt\n",
    "import numpy as np\n",
    "from numpy.testing import assert_array_almost_equal\n",
    "import GPy\n",
    "import gp_grid\n",
    "from pdb import set_trace\n",
    "from time import time\n",
    "from gp_grid.misc import rastrigin, grid2mat\n",
    "# gp_grid.debug()"
   ]
  },
  {
   "cell_type": "markdown",
   "metadata": {},
   "source": [
    "# `gp_grid.models.GPGridRegression` Testing\n",
    "Compare to a GPy model."
   ]
  },
  {
   "cell_type": "code",
   "execution_count": 2,
   "metadata": {
    "collapsed": false,
    "scrolled": false
   },
   "outputs": [
    {
     "name": "stdout",
     "output_type": "stream",
     "text": [
      "\n",
      "********************************************************************************\n",
      "n = 10\n",
      "\n",
      "comparing log likelihood\n",
      "checking gradient\n",
      "testing if alpha matches\n",
      "testing if predictions match...\n",
      "... mean\n",
      "... variance\n",
      "optimizing\n",
      "gp_grid opt time = 0.237722 seconds. Log_like=-350.512\n",
      "gpy opt time = 0.172418 seconds. Log_like=-350.508\n",
      "checking final log-likelihood\n",
      "\n",
      "********************************************************************************\n",
      "n = 20\n",
      "\n",
      "comparing log likelihood\n",
      "checking gradient\n",
      "testing if alpha matches\n",
      "testing if predictions match...\n",
      "... mean\n",
      "... variance\n",
      "optimizing\n",
      "gp_grid opt time = 0.632979 seconds. Log_like=-1548.81\n",
      "gpy opt time = 2.23161 seconds. Log_like=-1548.81\n",
      "checking final log-likelihood\n",
      "done tests.\n"
     ]
    }
   ],
   "source": [
    "for n in [10, 20]: # number of points along each dimension\n",
    "    print '\\n' + '*' * 80\n",
    "    print 'n = %d\\n' % n\n",
    "    \n",
    "    # get the dataset\n",
    "    np.random.seed(0)\n",
    "    d = 2\n",
    "    N = n**d\n",
    "    # get the training set\n",
    "    xg = [np.linspace(0,1,num=n).reshape((-1,1)),]*d\n",
    "    x = grid2mat(*xg)\n",
    "    y = rastrigin((x*2-1)*5.12, lin_term=1.)\n",
    "    x = np.asarray(x).reshape((-1,d))\n",
    "    y = np.asarray(y).reshape((-1,1))\n",
    "    yg = y.reshape((n,)*d, order='F')\n",
    "    \n",
    "    # get testing set\n",
    "    n_test = n-1\n",
    "    xxg = [np.linspace(0,1,num=n_test).reshape((-1,1)),]*d\n",
    "    xx = grid2mat(*xxg)\n",
    "    yy = rastrigin((xx*2-1)*5.12, lin_term=1.)\n",
    "    xx = np.asarray(xx).reshape((-1,d))\n",
    "    yy = np.asarray(yy).reshape((-1,1))\n",
    "    yyg = yy.reshape((n_test,)*d, order='F')\n",
    "\n",
    "    # plot the training data\n",
    "    # plt.figure()\n",
    "    # plt.imshow(yg,interpolation='none')\n",
    "    # plt.show()\n",
    "\n",
    "    # get the gp_grid model\n",
    "    kern_list = [gp_grid.kern.RBF(1) for i in range(d)]\n",
    "    m_kml = gp_grid.models.GPGridRegression(xg,yg,kern_list)\n",
    "\n",
    "    # get the GPy model\n",
    "    kern = GPy.kern.RBF(d,ARD=True)\n",
    "    m_gpy = GPy.models.GPRegression(x,y,kern)\n",
    "\n",
    "    print \"comparing log likelihood\"\n",
    "    assert_array_almost_equal(m_gpy.log_likelihood(), m_kml.log_likelihood(), decimal=2)\n",
    "\n",
    "    print \"checking gradient\"\n",
    "    m_kml.checkgrad()\n",
    "\n",
    "    print 'testing if alpha matches'\n",
    "    m_kml.fit()\n",
    "    assert_array_almost_equal(m_gpy.posterior.woodbury_vector, m_kml._alpha, decimal=3)\n",
    "\n",
    "    print 'testing if predictions match...'\n",
    "    yyh_gpy = m_gpy.predict(xx,full_cov=True)\n",
    "    yyh_kml = m_kml.predict_grid(xxg, compute_var='full')\n",
    "    print '... mean'\n",
    "    assert_array_almost_equal(yyh_gpy[0], yyh_kml[0].reshape((-1,1), order='F'), decimal=3)\n",
    "    print '... variance'\n",
    "    assert_array_almost_equal(yyh_gpy[1], yyh_kml[1], decimal=3)\n",
    "        \n",
    "    print \"optimizing\"\n",
    "    t0 = time();    m_kml.optimize();    t1 = time();    \n",
    "    print 'gp_grid opt time = %g seconds. Log_like=%g' % (t1-t0, m_kml.log_likelihood())\n",
    "    t0 = time();    m_gpy.optimize();    t1 = time();    \n",
    "    print 'gpy opt time = %g seconds. Log_like=%g' % (t1-t0, m_gpy.log_likelihood())\n",
    "    print \"checking final log-likelihood\"\n",
    "    assert_array_almost_equal(m_gpy.log_likelihood(), m_kml.log_likelihood(), decimal=1)\n",
    "\n",
    "print 'done tests.'"
   ]
  },
  {
   "cell_type": "markdown",
   "metadata": {},
   "source": [
    "# `gp_grid.models.GPRegression` Testing\n",
    "Will compare with GPy. \n",
    "Note that this assumes the model defaults are the same as those for GPy."
   ]
  },
  {
   "cell_type": "code",
   "execution_count": 3,
   "metadata": {
    "collapsed": false,
    "scrolled": false
   },
   "outputs": [
    {
     "name": "stdout",
     "output_type": "stream",
     "text": [
      "checking gradient\n",
      "checking initial log-likelihood\n",
      "testing if alpha matches\n",
      "testing if predictions match...\n",
      "... mean\n",
      "... variance\n",
      "checking final log-likelihood after optimizing\n",
      "done tests.\n"
     ]
    }
   ],
   "source": [
    "# generate data\n",
    "np.random.seed(0)\n",
    "N = 150\n",
    "d = 2\n",
    "x = np.random.uniform(size=(N,d)) # generate dataset\n",
    "y = rastrigin((x*2-1)*5.12, lin_term=1.)\n",
    "xx = np.random.uniform(size=(N+1,d)) # generate test set\n",
    "\n",
    "# initialize GPy.models.GPRegression\n",
    "kern = GPy.kern.RBF(d)\n",
    "mg = GPy.models.GPRegression(x,y,kern)\n",
    "\n",
    "# initialize gp_grid model\n",
    "kern = gp_grid.kern.RBF(d)\n",
    "m = gp_grid.models.GPRegression(x,y,kern)\n",
    "\n",
    "print 'checking gradient'\n",
    "m.checkgrad() \n",
    "\n",
    "print 'checking initial log-likelihood'\n",
    "assert_array_almost_equal(mg.log_likelihood(), m.log_likelihood(), decimal=3) \n",
    "\n",
    "print 'testing if alpha matches'\n",
    "m.fit()\n",
    "alpha_gpy = mg.posterior.woodbury_vector\n",
    "assert_array_almost_equal(alpha_gpy, m._alpha, decimal=3)\n",
    "\n",
    "print 'testing if predictions match...'\n",
    "yyh = m.predict(xx, compute_var='full')\n",
    "yyh_gpy = mg.predict(xx,full_cov=True)\n",
    "print '... mean'\n",
    "assert_array_almost_equal(yyh_gpy[0], yyh[0], decimal=3)\n",
    "print '... variance'\n",
    "assert_array_almost_equal(yyh_gpy[1], yyh[1], decimal=2)\n",
    "\n",
    "print 'checking final log-likelihood after optimizing'\n",
    "m.optimize()\n",
    "mg.optimize()\n",
    "ll_gpy_opt = mg.log_likelihood()\n",
    "assert_array_almost_equal(ll_gpy_opt, m.log_likelihood(), decimal=2) \n",
    "print 'done tests.'"
   ]
  }
 ],
 "metadata": {
  "anaconda-cloud": {},
  "kernelspec": {
   "display_name": "Python 2",
   "language": "python",
   "name": "python2"
  },
  "language_info": {
   "codemirror_mode": {
    "name": "ipython",
    "version": 2
   },
   "file_extension": ".py",
   "mimetype": "text/x-python",
   "name": "python",
   "nbconvert_exporter": "python",
   "pygments_lexer": "ipython2",
   "version": "2.7.12"
  }
 },
 "nbformat": 4,
 "nbformat_minor": 1
}
