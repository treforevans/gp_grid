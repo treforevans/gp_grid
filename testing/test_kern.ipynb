{
 "cells": [
  {
   "cell_type": "code",
   "execution_count": 1,
   "metadata": {
    "collapsed": false
   },
   "outputs": [],
   "source": [
    "%matplotlib inline\n",
    "import numpy as np\n",
    "import gp_grid.kern\n",
    "import matplotlib.pyplot as plt\n",
    "import GPy.kern\n",
    "from gp_grid.misc import rastrigin"
   ]
  },
  {
   "cell_type": "markdown",
   "metadata": {},
   "source": [
    "# Standard Kernels\n",
    "Compare the covariance Matricies with GPy Kernels"
   ]
  },
  {
   "cell_type": "code",
   "execution_count": 2,
   "metadata": {
    "collapsed": false
   },
   "outputs": [],
   "source": [
    "for d in [1,10]:\n",
    "    np.random.seed(0)\n",
    "    N = 100\n",
    "    x = np.random.uniform(size=(N,d)) # generate dataset\n",
    "    y = rastrigin((x*2-1)*5.12)\n",
    "\n",
    "    # RBF\n",
    "    np.testing.assert_array_almost_equal(\n",
    "        gp_grid.kern.RBF(d, lengthscale=0.5, variance=0.5).cov(x),\n",
    "        GPy.kern.RBF(    d, lengthscale=0.5, variance=0.5).K(x))\n",
    "    \n",
    "    # Exponential\n",
    "    np.testing.assert_array_almost_equal(\n",
    "        gp_grid.kern.Exponential(d, lengthscale=0.5, variance=0.5).cov(x),\n",
    "        GPy.kern.Exponential(    d, lengthscale=0.5, variance=0.5).K(x))\n",
    "    \n",
    "    # Matern32\n",
    "    np.testing.assert_array_almost_equal(\n",
    "        gp_grid.kern.Matern32(d, lengthscale=0.5, variance=0.5).cov(x),\n",
    "        GPy.kern.Matern32(    d, lengthscale=0.5, variance=0.5).K(x))\n",
    "    \n",
    "    # Matern52\n",
    "    np.testing.assert_array_almost_equal(\n",
    "        gp_grid.kern.Matern52(d, lengthscale=0.5, variance=0.5).cov(x),\n",
    "        GPy.kern.Matern52(    d, lengthscale=0.5, variance=0.5).K(x))\n",
    "    \n",
    "    # GPy - RBF\n",
    "    np.testing.assert_array_almost_equal(\n",
    "        gp_grid.kern.GPyKernel(d, kernel=\"RBF\", lengthscale=0.5, variance=0.5).cov(x),\n",
    "        GPy.kern.RBF(          d, lengthscale=0.5, variance=0.5).K(x))\n",
    "    \n",
    "    if d == 1: # these are only for 1d\n",
    "        # GPy - PeriodicMatern32\n",
    "        np.testing.assert_array_almost_equal(\n",
    "            gp_grid.kern.GPyKernel(d, kernel=\"PeriodicMatern32\", lengthscale=0.5, variance=0.5).cov(x),\n",
    "            GPy.kern.PeriodicMatern32(          d, lengthscale=0.5, variance=0.5).K(x))"
   ]
  },
  {
   "cell_type": "markdown",
   "metadata": {},
   "source": [
    "# Combining Kernels\n",
    "Check combining GPy covariance kernels and ensure it works in `gp_grid`. Let the kernel be\n",
    "$$ k = (k_0 k_1 + k_2)k_3$$"
   ]
  },
  {
   "cell_type": "code",
   "execution_count": 3,
   "metadata": {
    "collapsed": false,
    "scrolled": false
   },
   "outputs": [
    {
     "name": "stdout",
     "output_type": "stream",
     "text": [
      "gpy:\n",
      "  \u001b[1mmul.                  \u001b[0;0m  |  value  |  constraints  |  priors\n",
      "  \u001b[1msum.mul.k0.variance   \u001b[0;0m  |    0.5  |      +ve      |        \n",
      "  \u001b[1msum.mul.k0.lengthscale\u001b[0;0m  |    0.5  |      +ve      |        \n",
      "  \u001b[1msum.mul.k1.variance   \u001b[0;0m  |    1.0  |      +ve      |        \n",
      "  \u001b[1msum.mul.k1.lengthscale\u001b[0;0m  |    1.0  |      +ve      |        \n",
      "  \u001b[1msum.k2.variance       \u001b[0;0m  |    1.5  |      +ve      |        \n",
      "  \u001b[1msum.k2.lengthscale    \u001b[0;0m  |    1.5  |      +ve      |        \n",
      "  \u001b[1mk3.variance           \u001b[0;0m  |    2.0  |      +ve      |        \n",
      "  \u001b[1mk3.lengthscale        \u001b[0;0m  |    2.0  |      +ve      |        \n",
      "gp_grid:\n",
      "\n",
      "GPy - <GPy.kern.src.prod.Prod object at 0x7f030cdb8c10> kernel\n",
      "| Name        |   Value | Constraint   |\n",
      "|-------------+---------+--------------|\n",
      "| variance    |     0.5 | ['+ve']      |\n",
      "| lengthscale |     0.5 | ['+ve']      |\n",
      "| variance    |     1   | ['+ve']      |\n",
      "| lengthscale |     1   | ['+ve']      |\n",
      "| variance    |     1.5 | ['+ve']      |\n",
      "| lengthscale |     1.5 | ['+ve']      |\n",
      "| variance    |     2   | ['+ve']      |\n",
      "| lengthscale |     2   | ['+ve']      |\n",
      "\n",
      "tests completed.\n"
     ]
    }
   ],
   "source": [
    "# generate data\n",
    "np.random.seed(0)\n",
    "d = 5\n",
    "N = 100\n",
    "x = np.random.uniform(size=(N,d)) # generate dataset\n",
    "y = rastrigin((x*2-1)*5.12)\n",
    "\n",
    "# get base kernels\n",
    "kb_gpy = [GPy.kern.RBF(    d, lengthscale=0.5*i+0.5, variance=0.5*i+0.5, name='k%d' % i) \n",
    "                  for i in range(4)]\n",
    "# then combine the base kernels\n",
    "k_gpy = ((kb_gpy[0] * kb_gpy[1]) + kb_gpy[2]) * kb_gpy[3]\n",
    "\n",
    "# Wrap the GPy kernel\n",
    "k_kml = gp_grid.kern.GPyKernel(d, kernel=k_gpy)\n",
    "\n",
    "# print the kernels\n",
    "print 'gpy:'\n",
    "print k_gpy\n",
    "print 'gp_grid:'\n",
    "print k_kml\n",
    "\n",
    "# check to ensure they give the same kernel covariance matrix\n",
    "np.testing.assert_array_almost_equal( k_kml.cov(x), k_gpy.K(x) )\n",
    "\n",
    "# test training\n",
    "m = gp_grid.models.GPRegression(x,y,k_kml)\n",
    "m.checkgrad()\n",
    "m.optimize(max_iters=5) # just go for a few iterations to make sure working with getter/setter of params\n",
    "\n",
    "print \"tests completed.\""
   ]
  }
 ],
 "metadata": {
  "anaconda-cloud": {},
  "kernelspec": {
   "display_name": "Python 2",
   "language": "python",
   "name": "python2"
  },
  "language_info": {
   "codemirror_mode": {
    "name": "ipython",
    "version": 2
   },
   "file_extension": ".py",
   "mimetype": "text/x-python",
   "name": "python",
   "nbconvert_exporter": "python",
   "pygments_lexer": "ipython2",
   "version": "2.7.12"
  }
 },
 "nbformat": 4,
 "nbformat_minor": 1
}
