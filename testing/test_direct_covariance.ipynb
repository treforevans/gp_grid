{
 "cells": [
  {
   "cell_type": "code",
   "execution_count": 1,
   "metadata": {
    "collapsed": false
   },
   "outputs": [],
   "source": [
    "%matplotlib inline\n",
    "import matplotlib.pyplot as plt\n",
    "import numpy as np\n",
    "import GPy\n",
    "import gp_grid\n",
    "gp_grid.debug()"
   ]
  },
  {
   "cell_type": "markdown",
   "metadata": {},
   "source": [
    "First generate a dataset using a random covariance in the ''network'' space and using an rbf kernel in the temporal dimension."
   ]
  },
  {
   "cell_type": "code",
   "execution_count": 2,
   "metadata": {
    "collapsed": false
   },
   "outputs": [
    {
     "name": "stdout",
     "output_type": "stream",
     "text": [
      "[ 11:34:30 ] gp_grid.kern DEBUG: Initializing RBF kernel.\n"
     ]
    }
   ],
   "source": [
    "np.random.seed(0)\n",
    "n_network = 3 # number of networks\n",
    "n_time = 200\n",
    "N = n_network*n_time\n",
    "\n",
    "# get a random network covariance matrix\n",
    "K_n = 2*np.random.rand(n_network,n_network)-1;    K_n = K_n*K_n.T + 0.1*np.identity(n_network) # make spd\n",
    "\n",
    "# specify a time covariance function\n",
    "k_t = gp_grid.kern.RBF(1, lengthscale=0.2)\n",
    "k_t.constraint_map['variance'] = 'fixed'\n",
    "k_t.constraint_map['lengthscale'] = 'fixed'\n",
    "\n",
    "# create a dataset\n",
    "noise_var = 1e-6\n",
    "t = np.linspace(0,5,num=n_time).reshape((-1,1))\n",
    "xg = [np.arange(n_network).reshape((-1,1)),t]\n",
    "# x = gp_grid.grid.grid2mat(*xg) # convert from grid to actual points\n",
    "yg = np.random.multivariate_normal(np.zeros(N), np.kron(K_n,k_t.cov(t))+noise_var*np.identity(N)).reshape((n_network,n_time))"
   ]
  },
  {
   "cell_type": "markdown",
   "metadata": {},
   "source": [
    "plot the network and the covariance"
   ]
  },
  {
   "cell_type": "code",
   "execution_count": 3,
   "metadata": {
    "collapsed": false
   },
   "outputs": [
    {
     "name": "stdout",
     "output_type": "stream",
     "text": [
      "network covariance matrix:\n",
      "[[ 0.10953103  0.03863353 -0.025655  ]\n",
      " [ 0.03863353  0.12331436  0.2286295 ]\n",
      " [-0.025655    0.2286295   0.95993262]]\n"
     ]
    },
    {
     "data": {
      "image/png": "[encoded data removed]",
      "text/plain": [
       "<matplotlib.figure.Figure at 0x7f9e11026350>"
      ]
     },
     "metadata": {},
     "output_type": "display_data"
    }
   ],
   "source": [
    "plt.figure()\n",
    "for i in range(n_network):\n",
    "    plt.plot(yg[i,:],label='%d'%i)\n",
    "plt.legend(loc=0)\n",
    "\n",
    "# plt.figure()\n",
    "# plt.imshow(np.abs(K_n),interpolation='none')\n",
    "print \"network covariance matrix:\"\n",
    "print K_n"
   ]
  },
  {
   "cell_type": "markdown",
   "metadata": {},
   "source": [
    "initialize the kernels with a random guess at the network covariance matrix and train the model to try and recover the original one model"
   ]
  },
  {
   "cell_type": "code",
   "execution_count": 4,
   "metadata": {
    "collapsed": false
   },
   "outputs": [
    {
     "name": "stdout",
     "output_type": "stream",
     "text": [
      "exact covariance:\n",
      "[[ 0.10953103  0.03863353 -0.025655  ]\n",
      " [ 0.03863353  0.12331436  0.2286295 ]\n",
      " [-0.025655    0.2286295   0.95993262]]\n",
      "\n",
      "initial network covariance matrix:\n",
      "[[ 0.13441695  0.05547871  0.08960251]\n",
      " [ 0.05547871  0.10892457  0.25899592]\n",
      " [ 0.08960251  0.25899592  0.79836135]]\n",
      "\n",
      "% error between initial and exact covariance matricies:\n",
      "[[  22.72042505   43.60245751 -449.25952153]\n",
      " [  43.60245751  -11.66919171   13.28193657]\n",
      " [-449.25952153   13.28193657  -16.83152216]]\n",
      "[ 11:34:31 ] gp_grid.models DEBUG: Initializing GPGridRegression model.\n",
      "[ 11:34:31 ] gp_grid.models DEBUG: Beginning MLE to optimize hyperparameters. grad_method=adjoint\n",
      "[ 11:34:32 ] gp_grid.models INFO: Function Evals: -2600. Exit status: 0\n",
      "\n",
      "optimized network covariance matrix:\n",
      "[[ 0.11281775  0.02416879 -0.01774662]\n",
      " [ 0.02416879  0.10044393  0.21438009]\n",
      " [-0.01774662  0.21438009  0.82492375]]\n",
      "\n",
      "error between optimized and exact covariance matricies:\n",
      "[[ 0.00328672 -0.01446475  0.00790837]\n",
      " [-0.01446475 -0.02287043 -0.0142494 ]\n",
      " [ 0.00790837 -0.0142494  -0.13500887]]\n",
      "\n",
      "% error between optimized and exact covariance matricies:\n",
      "[[  3.00071623 -37.44090913 -30.82586114]\n",
      " [-37.44090913 -18.54644514  -6.23253052]\n",
      " [-30.82586114  -6.23253052 -14.0644114 ]]\n",
      "0.114218136109\n",
      "done tests!\n"
     ]
    }
   ],
   "source": [
    "print \"exact covariance:\"\n",
    "print K_n\n",
    "\n",
    "# get random covariance to initialize\n",
    "# np.random.seed(5)\n",
    "# K_init = 2*np.random.rand(n_network,n_network)-1; K_init = K_init.dot(K_init.T)\n",
    "\n",
    "# compute mle covariance assuming no time dependence\n",
    "K_init = np.cov(yg)\n",
    "\n",
    "# print statistics of intial guess\n",
    "print \"\\ninitial network covariance matrix:\"\n",
    "print K_init\n",
    "print \"\\n% error between initial and exact covariance matricies:\"\n",
    "print (K_init-K_n) / K_n * 100\n",
    "\n",
    "# now optimize the covariance matrix\n",
    "kern_list = [gp_grid.kern.DirectCovariance(K=K_init), k_t]\n",
    "m_kml = gp_grid.models.GPGridRegression(xg,yg,kern_list, noise_var=noise_var)\n",
    "m_kml.noise_var_constraint = 'fixed'\n",
    "m_kml.optimize()\n",
    "# print m_kml\n",
    "K_recovered = m_kml.kern.kern_list[0].cov(np.arange(n_network).reshape((-1,1)))\n",
    "print \"\\noptimized network covariance matrix:\"\n",
    "print K_recovered\n",
    "print \"\\nerror between optimized and exact covariance matricies:\"\n",
    "print K_recovered-K_n\n",
    "print \"\\n% error between optimized and exact covariance matricies:\"\n",
    "print (K_recovered-K_n) / K_n * 100\n",
    "\n",
    "# ensure that the relative error is significantly less after MLE\n",
    "before_norm = np.linalg.norm((K_init-K_n) / K_n * 100)\n",
    "after_norm = np.linalg.norm((K_recovered-K_n) / K_n * 100)\n",
    "improvement = after_norm/before_norm\n",
    "print improvement\n",
    "assert improvement < 0.15, \"MLE didn't sufficiently decrease the covariance error.\"\n",
    "print \"done tests!\""
   ]
  }
 ],
 "metadata": {
  "kernelspec": {
   "display_name": "Python 2",
   "language": "python",
   "name": "python2"
  },
  "language_info": {
   "codemirror_mode": {
    "name": "ipython",
    "version": 2
   },
   "file_extension": ".py",
   "mimetype": "text/x-python",
   "name": "python",
   "nbconvert_exporter": "python",
   "pygments_lexer": "ipython2",
   "version": "2.7.12"
  }
 },
 "nbformat": 4,
 "nbformat_minor": 2
}
