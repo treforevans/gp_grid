{
 "cells": [
  {
   "cell_type": "code",
   "execution_count": 1,
   "metadata": {},
   "outputs": [
    {
     "name": "stdout",
     "output_type": "stream",
     "text": [
      "[ 14:15:50 ] matplotlib.backends DEBUG: backend module://ipykernel.pylab.backend_inline version unknown\n"
     ]
    }
   ],
   "source": [
    "%matplotlib inline\n",
    "import matplotlib.pyplot as plt\n",
    "import numpy as np\n",
    "import GPy\n",
    "import gp_grid\n",
    "gp_grid.debug()"
   ]
  },
  {
   "cell_type": "markdown",
   "metadata": {},
   "source": [
    "First generate a dataset using a random covariance in the ''network'' space and using an rbf kernel in the temporal dimension."
   ]
  },
  {
   "cell_type": "code",
   "execution_count": 2,
   "metadata": {},
   "outputs": [
    {
     "name": "stdout",
     "output_type": "stream",
     "text": [
      "[ 14:15:50 ] gp_grid.kern DEBUG: Initializing RBF kernel.\n"
     ]
    }
   ],
   "source": [
    "np.random.seed(0)\n",
    "n_network = 3 # number of networks\n",
    "n_time = 200\n",
    "N = n_network*n_time\n",
    "\n",
    "# get a random network covariance matrix\n",
    "K_n = 2*np.random.rand(n_network,n_network)-1;    K_n = K_n*K_n.T + 0.1*np.identity(n_network) # make spd\n",
    "\n",
    "# specify a time covariance function\n",
    "k_t = gp_grid.kern.RBF(1, lengthscale=0.2)\n",
    "k_t.constraint_map['variance'] = 'fixed'\n",
    "k_t.constraint_map['lengthscale'] = 'fixed'\n",
    "\n",
    "# create a dataset\n",
    "noise_var = 1e-6\n",
    "t = np.linspace(0,5,num=n_time).reshape((-1,1))\n",
    "xg = [np.arange(n_network).reshape((-1,1)),t]\n",
    "# x = gp_grid.grid.grid2mat(*xg) # convert from grid to actual points\n",
    "yg = np.random.multivariate_normal(np.zeros(N), np.kron(K_n,k_t.cov(t))+noise_var*np.identity(N)).reshape((n_network,n_time))"
   ]
  },
  {
   "cell_type": "markdown",
   "metadata": {},
   "source": [
    "plot the network and the covariance"
   ]
  },
  {
   "cell_type": "code",
   "execution_count": 3,
   "metadata": {},
   "outputs": [
    {
     "name": "stdout",
     "output_type": "stream",
     "text": [
      "network covariance matrix:\n",
      "[[ 0.10953103  0.03863353 -0.025655  ]\n",
      " [ 0.03863353  0.12331436  0.2286295 ]\n",
      " [-0.025655    0.2286295   0.95993262]]\n",
      "[ 14:15:50 ] matplotlib.font_manager DEBUG: findfont: Matching :family=sans-serif:style=normal:variant=normal:weight=normal:stretch=normal:size=10.0 to DejaVu Sans (u'/home/trefor/anaconda2/envs/tensorflow/lib/python2.7/site-packages/matplotlib/mpl-data/fonts/ttf/DejaVuSans.ttf') with score of 0.050000\n"
     ]
    },
    {
     "data": {
      "image/png": "[encoded data removed]",
      "text/plain": [
       "<Figure size 432x288 with 1 Axes>"
      ]
     },
     "metadata": {},
     "output_type": "display_data"
    }
   ],
   "source": [
    "plt.figure()\n",
    "for i in range(n_network):\n",
    "    plt.plot(yg[i,:],label='%d'%i)\n",
    "plt.legend(loc=0)\n",
    "\n",
    "# plt.figure()\n",
    "# plt.imshow(np.abs(K_n),interpolation='none')\n",
    "print \"network covariance matrix:\"\n",
    "print K_n"
   ]
  },
  {
   "cell_type": "markdown",
   "metadata": {},
   "source": [
    "initialize the kernels with a random guess at the network covariance matrix and train the model to try and recover the original one model"
   ]
  },
  {
   "cell_type": "code",
   "execution_count": 5,
   "metadata": {},
   "outputs": [
    {
     "name": "stdout",
     "output_type": "stream",
     "text": [
      "exact covariance:\n",
      "[[ 0.10953103  0.03863353 -0.025655  ]\n",
      " [ 0.03863353  0.12331436  0.2286295 ]\n",
      " [-0.025655    0.2286295   0.95993262]]\n",
      "\n",
      "initial network covariance matrix:\n",
      "[[0.13277108 0.05967274 0.10356408]\n",
      " [0.05967274 0.10739896 0.2546168 ]\n",
      " [0.10356408 0.2546168  0.80146744]]\n",
      "\n",
      "% error between initial and exact covariance matricies:\n",
      "[[  21.2177758    54.45840426 -503.67995751]\n",
      " [  54.45840426  -12.90636022   11.36655577]\n",
      " [-503.67995751   11.36655577  -16.50794835]]\n",
      "[ 14:16:03 ] gp_grid.models DEBUG: Initializing GPGridRegression model.\n",
      "[ 14:16:03 ] gp_grid.models DEBUG: Beginning MLE to optimize hyperparameters. grad_method=adjoint\n",
      "[ 14:16:04 ] gp_grid.models INFO: Function Evals: 15. Log-Marginal Likelihood: 2603.86.\n",
      "\n",
      "optimized network covariance matrix:\n",
      "[[ 0.11577354  0.02163505 -0.01642613]\n",
      " [ 0.02163505  0.11957274  0.25592473]\n",
      " [-0.01642613  0.25592473  0.80641085]]\n",
      "\n",
      "error between optimized and exact covariance matricies:\n",
      "[[ 0.0062425  -0.01699848  0.00922887]\n",
      " [-0.01699848 -0.00374162  0.02729523]\n",
      " [ 0.00922887  0.02729523 -0.15352177]]\n",
      "\n",
      "% error between optimized and exact covariance matricies:\n",
      "[[  5.69930037 -43.9992961  -35.97297893]\n",
      " [-43.9992961   -3.0342121   11.93863121]\n",
      " [-35.97297893  11.93863121 -15.99297364]]\n",
      "0.1169998789762334\n",
      "done tests!\n"
     ]
    }
   ],
   "source": [
    "print \"exact covariance:\"\n",
    "print K_n\n",
    "\n",
    "# get random covariance to initialize\n",
    "# np.random.seed(5)\n",
    "# K_init = 2*np.random.rand(n_network,n_network)-1; K_init = K_init.dot(K_init.T)\n",
    "\n",
    "# compute mle covariance assuming no time dependence\n",
    "K_init = np.cov(yg)\n",
    "\n",
    "# print statistics of intial guess\n",
    "print \"\\ninitial network covariance matrix:\"\n",
    "print K_init\n",
    "print \"\\n% error between initial and exact covariance matricies:\"\n",
    "print (K_init-K_n) / K_n * 100\n",
    "\n",
    "# now optimize the covariance matrix\n",
    "kern_list = [gp_grid.kern.DirectCovariance(K=K_init), k_t]\n",
    "m_kml = gp_grid.models.GPGridRegression(xg,yg,kern_list, noise_var=noise_var)\n",
    "m_kml.noise_var_constraint = 'fixed'\n",
    "m_kml.optimize(factr=1e7)\n",
    "# print m_kml\n",
    "K_recovered = m_kml.kern.kern_list[0].cov(np.arange(n_network).reshape((-1,1)))\n",
    "print \"\\noptimized network covariance matrix:\"\n",
    "print K_recovered\n",
    "print \"\\nerror between optimized and exact covariance matricies:\"\n",
    "print K_recovered-K_n\n",
    "print \"\\n% error between optimized and exact covariance matricies:\"\n",
    "print (K_recovered-K_n) / K_n * 100\n",
    "\n",
    "# ensure that the relative error is significantly less after MLE\n",
    "before_norm = np.linalg.norm((K_init-K_n) / K_n * 100)\n",
    "after_norm = np.linalg.norm((K_recovered-K_n) / K_n * 100)\n",
    "improvement = after_norm/before_norm\n",
    "print improvement\n",
    "assert improvement < 0.15, \"MLE didn't sufficiently decrease the covariance error.\"\n",
    "print \"done tests!\""
   ]
  }
 ],
 "metadata": {
  "kernelspec": {
   "display_name": "Python [default]",
   "language": "python",
   "name": "python2"
  },
  "language_info": {
   "codemirror_mode": {
    "name": "ipython",
    "version": 2
   },
   "file_extension": ".py",
   "mimetype": "text/x-python",
   "name": "python",
   "nbconvert_exporter": "python",
   "pygments_lexer": "ipython2",
   "version": "2.7.15"
  }
 },
 "nbformat": 4,
 "nbformat_minor": 2
}
